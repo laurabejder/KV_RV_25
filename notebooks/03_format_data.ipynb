{
 "cells": [
  {
   "cell_type": "code",
   "execution_count": 26,
   "id": "28808f7f",
   "metadata": {},
   "outputs": [],
   "source": [
    "import pandas as pd"
   ]
  },
  {
   "cell_type": "code",
   "execution_count": 27,
   "id": "5fb83ce9",
   "metadata": {},
   "outputs": [],
   "source": [
    "df = pd.read_csv(\"data/struktureret/kv25_resultater_partier.csv\")"
   ]
  },
  {
   "cell_type": "code",
   "execution_count": 28,
   "id": "2bb85e4d",
   "metadata": {},
   "outputs": [
    {
     "data": {
      "text/html": [
       "<div>\n",
       "<style scoped>\n",
       "    .dataframe tbody tr th:only-of-type {\n",
       "        vertical-align: middle;\n",
       "    }\n",
       "\n",
       "    .dataframe tbody tr th {\n",
       "        vertical-align: top;\n",
       "    }\n",
       "\n",
       "    .dataframe thead th {\n",
       "        text-align: right;\n",
       "    }\n",
       "</style>\n",
       "<table border=\"1\" class=\"dataframe\">\n",
       "  <thead>\n",
       "    <tr style=\"text-align: right;\">\n",
       "      <th></th>\n",
       "      <th>kommune</th>\n",
       "      <th>kommune_kode</th>\n",
       "      <th>afstemningsområde</th>\n",
       "      <th>afstemningsområde_dagi_id</th>\n",
       "      <th>godkendelsesdato</th>\n",
       "      <th>frigivelsestidspunkt</th>\n",
       "      <th>parti</th>\n",
       "      <th>stemmer</th>\n",
       "      <th>listestemmer</th>\n",
       "      <th>difference_forrige_valg</th>\n",
       "    </tr>\n",
       "  </thead>\n",
       "  <tbody>\n",
       "    <tr>\n",
       "      <th>0</th>\n",
       "      <td>København</td>\n",
       "      <td>101</td>\n",
       "      <td>2. Nord</td>\n",
       "      <td>706166</td>\n",
       "      <td>NaN</td>\n",
       "      <td>19-08-2025 06:43:54</td>\n",
       "      <td>Socialdemokratiet</td>\n",
       "      <td>18094</td>\n",
       "      <td>1548</td>\n",
       "      <td>-4</td>\n",
       "    </tr>\n",
       "    <tr>\n",
       "      <th>1</th>\n",
       "      <td>København</td>\n",
       "      <td>101</td>\n",
       "      <td>1.</td>\n",
       "      <td>707732</td>\n",
       "      <td>NaN</td>\n",
       "      <td>19-08-2025 06:43:52</td>\n",
       "      <td>Socialdemokratiet</td>\n",
       "      <td>18094</td>\n",
       "      <td>1548</td>\n",
       "      <td>-4</td>\n",
       "    </tr>\n",
       "  </tbody>\n",
       "</table>\n",
       "</div>"
      ],
      "text/plain": [
       "     kommune  kommune_kode afstemningsområde  afstemningsområde_dagi_id  \\\n",
       "0  København           101           2. Nord                     706166   \n",
       "1  København           101               1.                      707732   \n",
       "\n",
       "   godkendelsesdato frigivelsestidspunkt              parti  stemmer  \\\n",
       "0               NaN  19-08-2025 06:43:54  Socialdemokratiet    18094   \n",
       "1               NaN  19-08-2025 06:43:52  Socialdemokratiet    18094   \n",
       "\n",
       "   listestemmer  difference_forrige_valg  \n",
       "0          1548                       -4  \n",
       "1          1548                       -4  "
      ]
     },
     "execution_count": 28,
     "metadata": {},
     "output_type": "execute_result"
    }
   ],
   "source": [
    "df"
   ]
  },
  {
   "cell_type": "code",
   "execution_count": 29,
   "id": "0628d65d",
   "metadata": {},
   "outputs": [],
   "source": [
    "max_votes = df.groupby(['kommune','afstemningsområde'])['stemmer'].transform('max')\n",
    "\n",
    "df['største_parti'] = df.loc[df['stemmer'] == max_votes, 'parti']"
   ]
  },
  {
   "cell_type": "code",
   "execution_count": 30,
   "id": "34a24b91",
   "metadata": {},
   "outputs": [],
   "source": [
    "pt = df.pivot_table(\n",
    "    index=['kommune','kommune_kode','afstemningsområde',\n",
    "           'afstemningsområde_dagi_id','frigivelsestidspunkt','største_parti'],\n",
    "    columns='parti',\n",
    "    values='stemmer',\n",
    "    aggfunc='sum'\n",
    ").reset_index()"
   ]
  },
  {
   "cell_type": "code",
   "execution_count": 31,
   "id": "79676208",
   "metadata": {},
   "outputs": [],
   "source": [
    "pt.to_csv(\"data/struktureret/kv25_resultater_partier_pivot.csv\", index=False)"
   ]
  }
 ],
 "metadata": {
  "kernelspec": {
   "display_name": "3.11.8",
   "language": "python",
   "name": "python3"
  },
  "language_info": {
   "codemirror_mode": {
    "name": "ipython",
    "version": 3
   },
   "file_extension": ".py",
   "mimetype": "text/x-python",
   "name": "python",
   "nbconvert_exporter": "python",
   "pygments_lexer": "ipython3",
   "version": "3.11.8"
  }
 },
 "nbformat": 4,
 "nbformat_minor": 5
}
