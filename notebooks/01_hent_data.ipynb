{
 "cells": [
  {
   "cell_type": "markdown",
   "id": "b42662ee",
   "metadata": {},
   "source": [
    "# 01 Hent valgresultater\n",
    "\n",
    "Denne notesbog tillader os at hente valgresultater til kommunal- og regionsrådsvalget 2025 fra en fjernserver hos [valg.dk](https://valg.dk/data-eksport).\n",
    "\n",
    "Vi bruger `paramiko` til at oprette en SFTP-forbindelse og hente data.\n",
    "\n",
    "Data bliver downloaded og struktureret i mapper baseret på valgtype og datakategori."
   ]
  },
  {
   "cell_type": "markdown",
   "id": "7dead5bf",
   "metadata": {},
   "source": [
    "## Setup\n",
    "Inden vi går i gang, skal vi sikre os, at vi har de nødvendige biblioteker installeret. Hvis du ikke allerede har `paramiko` og `os`, bliver det installeret her:"
   ]
  },
  {
   "cell_type": "code",
   "execution_count": 30,
   "id": "1fc1f832",
   "metadata": {},
   "outputs": [
    {
     "name": "stdout",
     "output_type": "stream",
     "text": [
      "\n",
      "\u001b[1m[\u001b[0m\u001b[34;49mnotice\u001b[0m\u001b[1;39;49m]\u001b[0m\u001b[39;49m A new release of pip is available: \u001b[0m\u001b[31;49m24.0\u001b[0m\u001b[39;49m -> \u001b[0m\u001b[32;49m25.2\u001b[0m\n",
      "\u001b[1m[\u001b[0m\u001b[34;49mnotice\u001b[0m\u001b[1;39;49m]\u001b[0m\u001b[39;49m To update, run: \u001b[0m\u001b[32;49mpip install --upgrade pip\u001b[0m\n"
     ]
    }
   ],
   "source": [
    "!pip install -q paramiko"
   ]
  },
  {
   "cell_type": "markdown",
   "id": "de026241",
   "metadata": {},
   "source": [
    "Derefter importerer vi de nødvendige biblioteker"
   ]
  },
  {
   "cell_type": "code",
   "execution_count": 31,
   "id": "6a7941eb",
   "metadata": {},
   "outputs": [],
   "source": [
    "import pandas as pd\n",
    "import paramiko\n",
    "import os\n",
    "import json"
   ]
  },
  {
   "cell_type": "markdown",
   "id": "154f15af",
   "metadata": {},
   "source": [
    "## Forbindelse til SFTP-server\n",
    "Først sætter parametrene for SFTP-forbindelsen op. De kommer [herfra](https://valg.dk/assets/guides/sftp-guide-public/VALG%20-%20Vejledning%20til%20hent%20af%20valgdata%20(Offentligheden).pdf)."
   ]
  },
  {
   "cell_type": "code",
   "execution_count": 32,
   "id": "73d2c229",
   "metadata": {},
   "outputs": [],
   "source": [
    "host = \"data.valg.dk\"\n",
    "port = 22\n",
    "username = \"Valg\"\n",
    "password = \"Valg\""
   ]
  },
  {
   "cell_type": "markdown",
   "id": "cba7c8ee",
   "metadata": {},
   "source": [
    "Så forbinder vi til SFTP-serveren"
   ]
  },
  {
   "cell_type": "code",
   "execution_count": 33,
   "id": "c026fd93",
   "metadata": {},
   "outputs": [],
   "source": [
    "transport = paramiko.Transport((host, port))\n",
    "transport.connect(username=username, password=password)"
   ]
  },
  {
   "cell_type": "markdown",
   "id": "68fae0ff",
   "metadata": {},
   "source": [
    "Og genererer en SFTP-klient"
   ]
  },
  {
   "cell_type": "code",
   "execution_count": 34,
   "id": "5e8d4be9",
   "metadata": {},
   "outputs": [],
   "source": [
    "sftp = paramiko.SFTPClient.from_transport(transport)"
   ]
  },
  {
   "cell_type": "code",
   "execution_count": 35,
   "id": "883b2bde",
   "metadata": {},
   "outputs": [
    {
     "name": "stdout",
     "output_type": "stream",
     "text": [
      "['geografi', 'public-key.pem', 'verifikation', 'Snitfladebeskrivelser', 'kandidat-data']\n"
     ]
    }
   ],
   "source": [
    "# list all files in the directory\n",
    "files = sftp.listdir('/data/kommunalvalg-134-18-11-2025/')\n",
    "print(files)"
   ]
  },
  {
   "cell_type": "markdown",
   "id": "cadd27f9",
   "metadata": {},
   "source": [
    "## Download af data\n",
    "\n",
    "Her definerer vi to centrale funktioner, som hjælper os med at downloade data. Funktionerne kan genbruges til både kommunal- og regionsrådsvalget.\n",
    "\n",
    "`download_files` henter filer fra en given fjernmappe og gemmer dem lokalt i en tilsvarende lokal mappe.\n",
    "\n",
    "`download_folders` henter mapper fra en given fjernmappe og gemmer dem lokalt i en tilsvarende lokal mappe."
   ]
  },
  {
   "cell_type": "code",
   "execution_count": 36,
   "id": "9c5fe69f",
   "metadata": {},
   "outputs": [],
   "source": [
    "def download_files(sftp, remote_dir, local_dir, folder_name):\n",
    "    files = sftp.listdir(remote_dir+\"/\"+folder_name)\n",
    "\n",
    "    for file in files:   # download each file\n",
    "        remote_file_path = remote_dir + \"/\" + folder_name + \"/\" + file\n",
    "        local_file_path = os.path.join(local_dir, folder_name, file)\n",
    "        os.makedirs(os.path.dirname(local_file_path), exist_ok=True)\n",
    "        sftp.get(remote_file_path, local_file_path)\n",
    "\n",
    "\n",
    "def download_folders(folders):\n",
    "    for folder in folders:\n",
    "        download_files(sftp, remote_path, local_path, folder)"
   ]
  },
  {
   "cell_type": "markdown",
   "id": "2342698b",
   "metadata": {},
   "source": [
    "### Download KV25"
   ]
  },
  {
   "cell_type": "code",
   "execution_count": 37,
   "id": "e420484a",
   "metadata": {},
   "outputs": [],
   "source": [
    "remote_path = \"/data/kommunalvalg-134-18-11-2025/verifikation\"\n",
    "local_path = \"data/raw/kv\""
   ]
  },
  {
   "cell_type": "code",
   "execution_count": 38,
   "id": "2c00ab32",
   "metadata": {},
   "outputs": [],
   "source": [
    "folders = [\"valgresultater\", \"kandidat-data\", \"mandatfordeling\", \"valgdeltagelse\"]\n",
    "download_folders(folders)"
   ]
  },
  {
   "cell_type": "markdown",
   "id": "d69a9398",
   "metadata": {},
   "source": [
    "### Download RV25"
   ]
  },
  {
   "cell_type": "code",
   "execution_count": 39,
   "id": "d350d395",
   "metadata": {},
   "outputs": [],
   "source": [
    "remote_path = \"/data/regionsrådsvalg-134-18-11-2025/verifikation\"\n",
    "local_path = \"data/raw/rv\""
   ]
  },
  {
   "cell_type": "code",
   "execution_count": 40,
   "id": "9f9cd450",
   "metadata": {},
   "outputs": [],
   "source": [
    "folders = [\"valgresultater\", \"mandatfordeling\", \"valgdeltagelse\"]\n",
    "download_folders(folders)"
   ]
  },
  {
   "cell_type": "code",
   "execution_count": 41,
   "id": "5da3e23d",
   "metadata": {},
   "outputs": [],
   "source": [
    "# sftp.close()\n",
    "# transport.close()\n",
    "# print(\"Download complete.\")"
   ]
  }
 ],
 "metadata": {
  "kernelspec": {
   "display_name": "3.11.8",
   "language": "python",
   "name": "python3"
  },
  "language_info": {
   "codemirror_mode": {
    "name": "ipython",
    "version": 3
   },
   "file_extension": ".py",
   "mimetype": "text/x-python",
   "name": "python",
   "nbconvert_exporter": "python",
   "pygments_lexer": "ipython3",
   "version": "3.11.8"
  }
 },
 "nbformat": 4,
 "nbformat_minor": 5
}
