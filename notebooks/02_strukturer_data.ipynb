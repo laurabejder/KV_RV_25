{
 "cells": [
  {
   "cell_type": "markdown",
   "id": "c3a2b687",
   "metadata": {},
   "source": []
  },
  {
   "cell_type": "code",
   "execution_count": 18,
   "id": "c076943b",
   "metadata": {},
   "outputs": [],
   "source": [
    "import pandas as pd\n",
    "import os\n",
    "import glob\n",
    "import json"
   ]
  },
  {
   "cell_type": "code",
   "execution_count": 19,
   "id": "578cd49b",
   "metadata": {},
   "outputs": [],
   "source": [
    "from_path = \"data/raw/\"\n",
    "to_path = \"data/struktureret/\""
   ]
  },
  {
   "cell_type": "code",
   "execution_count": 20,
   "id": "44d781a5",
   "metadata": {},
   "outputs": [],
   "source": [
    "def kombiner_resultater(from_path, to_path, valg, data_type):\n",
    "    os.makedirs(to_path, exist_ok=True) # Opret output-mappen, hvis den ikke findes\n",
    "    \n",
    "    file_pattern = os.path.join(from_path, valg, data_type, \"*.json\") # Find alle json-filer i den angivne mappe\n",
    "    all_files = glob.glob(file_pattern)\n",
    "\n",
    "    return all_files "
   ]
  },
  {
   "cell_type": "code",
   "execution_count": 21,
   "id": "82471270",
   "metadata": {},
   "outputs": [
    {
     "name": "stdout",
     "output_type": "stream",
     "text": [
      "{'Valgdag': '18-11-2025', 'Valgart': 'Kommunalvalg', 'FrigivelsesTidspunktUTC': '19-08-2025 06:43:56', 'Storkreds': 'København', 'Storkredsnummer': 1, 'Opstillingskreds': 'Østerbro', 'OpstillingskredsDagiId': 1, 'Kommune': 'København', 'Kommunekode': 101, 'AfstemningsområdeNummer': 6, 'AfstemningsområdeDagiId': 706166, 'Afstemningsområde': '3. Nordvest', 'UgyldigeFremmødteStemmerÅrsager': [], 'UgyldigeBrevstemmerÅrsager': [], 'Resultatart': 'IngenResultater', 'AfgivneStemmer': 0, 'GyldigeStemmer': 0, 'UgyldigeStemmerUdoverBlanke': 0, 'BlankeUgyldigeFremmødteStemmer': 0, 'BlankeUgyldigeBrevstemmer': 0, 'AfgivneStemmerDifferenceFraForrigeValg': None, 'GyldigeStemmerDifferenceFraForrigeValg': None, 'UgyldigeStemmerDifferenceFraForrigeValg': None, 'BlankeStemmerDifferenceFraForrigeValg': None, 'AntalStemmeberettigedeVælgereDifferenceFraForrigeValg': None, 'AntalStemmeberettigedeVælgere': 40000}\n",
      "Fejl ved læsning af data/raw/kv/valgresultater/valgresultater-Kommunalvalg-Københavns_Kommune-3__Nordvest-190820250843.json: 'Kandidatlister'\n",
      "{'Kandidatlister': [{'KandidatlisteId': 'ee0ddf7e-182a-4a83-81d9-b630639670a2', 'Navn': 'Socialdemokratiet', 'Bogstavbetegnelse': 'A', 'Stemmer': 18094, 'Listestemmer': 1548, 'StemmerDifferenceFraForrigeValg': -4, 'Kandidater': [{'Id': 'fd628eb8-aae1-462b-b4e6-6897022a613d', 'Stemmeseddelnavn': 'Sophie Hæstorp Andersen', 'Stemmer': 11039}, {'Id': '67ed9ec3-7747-4fa9-abb2-3afbfff0bd90', 'Stemmeseddelnavn': 'Lars Weiss', 'Stemmer': 4020}, {'Id': '2a4bedf6-4986-4da2-9014-bd8f11cf5e37', 'Stemmeseddelnavn': 'Laura Rosenvinge', 'Stemmer': 2579}]}, {'KandidatlisteId': '88733137-f35b-4572-b392-936153c44f3f', 'Navn': 'Venstre', 'Bogstavbetegnelse': 'V', 'Stemmer': 18094, 'Listestemmer': 1548, 'StemmerDifferenceFraForrigeValg': -4, 'Kandidater': [{'Id': '5ffbc860-e4ee-49e4-b60e-aa073c167b77', 'Stemmeseddelnavn': 'Sophie Hæstorp Andersen', 'Stemmer': 11039}, {'Id': '222a084e-5474-45e4-a0c5-092e4e4436c0', 'Stemmeseddelnavn': 'Lars Weiss', 'Stemmer': 4020}, {'Id': '17fc9230-772b-4451-8d5a-91d2d7caf003', 'Stemmeseddelnavn': 'Laura Rosenvinge', 'Stemmer': 2579}]}], 'GodkendelsesDatoUTC': None, 'Valgdag': '18-11-2025', 'Valgart': 'Kommunalvalg', 'FrigivelsesTidspunktUTC': '19-08-2025 06:43:54', 'Storkreds': None, 'Storkredsnummer': None, 'Opstillingskreds': None, 'OpstillingskredsDagiId': None, 'Kommune': 'København', 'Kommunekode': 101, 'AfstemningsområdeNummer': 8, 'AfstemningsområdeDagiId': 706166, 'Afstemningsområde': '2. Nord', 'UgyldigeFremmødteStemmerÅrsager': [{'Id': 1, 'Navn': 'Blanke', 'Paragraf': '4', 'Antal': 1}, {'Id': 2, 'Navn': 'AndetMærkeEndKryds', 'Paragraf': '5', 'Antal': 1}, {'Id': 3, 'Navn': 'HeltEllerDelvistOverstreget', 'Paragraf': '6', 'Antal': 1}, {'Id': 4, 'Navn': 'KrydsUdenForFelterne', 'Paragraf': '7', 'Antal': 1}, {'Id': 5, 'Navn': 'KrydsIflereFelter', 'Paragraf': '8', 'Antal': 1}, {'Id': 6, 'Navn': 'KrydsRækkerIndIflereFelter', 'Paragraf': '9,10', 'Antal': 1}, {'Id': 7, 'Navn': 'OverstregetUdvisketEllerIkkeFuldtKryds', 'Paragraf': '11', 'Antal': 1}, {'Id': 8, 'Navn': 'AndreGrunde', 'Paragraf': '12', 'Antal': 1}, {'Id': 9, 'Navn': 'StemmeseddelIkkeUdFraAfstemningssted', 'Paragraf': '13', 'Antal': 1}, {'Id': 10, 'Navn': 'AndetMærkeEndKrydsForudenKryds', 'Paragraf': '14', 'Antal': 1}, {'Id': 11, 'Navn': 'AnførtFlereEndTreKryds', 'Paragraf': '15', 'Antal': 1}, {'Id': 12, 'Navn': 'StemmeseddelMedTegningPåskrift', 'Paragraf': '16', 'Antal': 1}, {'Id': 13, 'Navn': 'AfmærketMedForskelligeFarverOgAndet', 'Paragraf': '17', 'Antal': 1}], 'UgyldigeBrevstemmerÅrsager': [{'Id': 21, 'Navn': 'Blanke', 'Paragraf': '19', 'Antal': 2}, {'Id': 22, 'Navn': 'KunNavnUofficielBogstav', 'Paragraf': '20', 'Antal': 2}, {'Id': 23, 'Navn': 'KunUofficelBogstavPåEtBogstav', 'Paragraf': '21', 'Antal': 2}, {'Id': 24, 'Navn': 'KunUofficelBogstavPåFlereBogstaver', 'Paragraf': '22', 'Antal': 2}, {'Id': 25, 'Navn': 'KunKryds', 'Paragraf': '23', 'Antal': 2}, {'Id': 26, 'Navn': 'ModstridBogstavListeNavn', 'Paragraf': '24, 25', 'Antal': 2}, {'Id': 27, 'Navn': 'AndreGrunde', 'Paragraf': '26', 'Antal': 2}, {'Id': 28, 'Navn': 'AndetEllerMereEndEnStemmeseddel', 'Paragraf': '27', 'Antal': 2}, {'Id': 29, 'Navn': 'StemmeseddelIkkeFraMinisteren', 'Paragraf': '28', 'Antal': 2}, {'Id': 30, 'Navn': 'KonvolutMedPåskrift', 'Paragraf': '29', 'Antal': 2}, {'Id': 31, 'Navn': 'StemmeseddelMedTegningPåskrift', 'Paragraf': '30', 'Antal': 2}, {'Id': 32, 'Navn': 'UdfyldtPåBagsidenEllerAndet', 'Paragraf': '31', 'Antal': 2}], 'Resultatart': 'Fintælling', 'AfgivneStemmer': 36437, 'GyldigeStemmer': 36188, 'UgyldigeStemmerUdoverBlanke': 290, 'BlankeUgyldigeFremmødteStemmer': 1, 'BlankeUgyldigeBrevstemmer': 2, 'AfgivneStemmerDifferenceFraForrigeValg': None, 'GyldigeStemmerDifferenceFraForrigeValg': None, 'UgyldigeStemmerDifferenceFraForrigeValg': None, 'BlankeStemmerDifferenceFraForrigeValg': None, 'AntalStemmeberettigedeVælgereDifferenceFraForrigeValg': None, 'AntalStemmeberettigedeVælgere': 40000}\n",
      "{'Kandidatlister': [{'KandidatlisteId': 'de873d9b-dab4-40f4-8486-7708b2905123', 'Navn': 'Socialdemokratiet', 'Bogstavbetegnelse': 'A', 'Stemmer': 18094, 'Listestemmer': 1548, 'StemmerDifferenceFraForrigeValg': -4, 'Kandidater': None}, {'KandidatlisteId': '0192fc6b-9515-4e31-8cc4-57a2de12c9be', 'Navn': 'Venstre', 'Bogstavbetegnelse': 'V', 'Stemmer': 18094, 'Listestemmer': 1548, 'StemmerDifferenceFraForrigeValg': -4, 'Kandidater': None}], 'GodkendelsesDatoUTC': None, 'Valgdag': '18-11-2025', 'Valgart': 'Kommunalvalg', 'FrigivelsesTidspunktUTC': '19-08-2025 06:43:52', 'Storkreds': None, 'Storkredsnummer': None, 'Opstillingskreds': None, 'OpstillingskredsDagiId': None, 'Kommune': 'København', 'Kommunekode': 101, 'AfstemningsområdeNummer': 1, 'AfstemningsområdeDagiId': 707732, 'Afstemningsområde': '1. ', 'UgyldigeFremmødteStemmerÅrsager': [{'Id': 1, 'Navn': 'Blanke', 'Paragraf': '4', 'Antal': 1}, {'Id': 2, 'Navn': 'AndetMærkeEndKryds', 'Paragraf': '5', 'Antal': 1}, {'Id': 3, 'Navn': 'HeltEllerDelvistOverstreget', 'Paragraf': '6', 'Antal': 1}, {'Id': 4, 'Navn': 'KrydsUdenForFelterne', 'Paragraf': '7', 'Antal': 1}, {'Id': 5, 'Navn': 'KrydsIflereFelter', 'Paragraf': '8', 'Antal': 1}, {'Id': 6, 'Navn': 'KrydsRækkerIndIflereFelter', 'Paragraf': '9,10', 'Antal': 1}, {'Id': 7, 'Navn': 'OverstregetUdvisketEllerIkkeFuldtKryds', 'Paragraf': '11', 'Antal': 1}, {'Id': 8, 'Navn': 'AndreGrunde', 'Paragraf': '12', 'Antal': 1}, {'Id': 9, 'Navn': 'StemmeseddelIkkeUdFraAfstemningssted', 'Paragraf': '13', 'Antal': 1}, {'Id': 10, 'Navn': 'AndetMærkeEndKrydsForudenKryds', 'Paragraf': '14', 'Antal': 1}, {'Id': 11, 'Navn': 'AnførtFlereEndTreKryds', 'Paragraf': '15', 'Antal': 1}, {'Id': 12, 'Navn': 'StemmeseddelMedTegningPåskrift', 'Paragraf': '16', 'Antal': 1}, {'Id': 13, 'Navn': 'AfmærketMedForskelligeFarverOgAndet', 'Paragraf': '17', 'Antal': 1}], 'UgyldigeBrevstemmerÅrsager': [{'Id': 21, 'Navn': 'Blanke', 'Paragraf': '19', 'Antal': 2}, {'Id': 22, 'Navn': 'KunNavnUofficielBogstav', 'Paragraf': '20', 'Antal': 2}, {'Id': 23, 'Navn': 'KunUofficelBogstavPåEtBogstav', 'Paragraf': '21', 'Antal': 2}, {'Id': 24, 'Navn': 'KunUofficelBogstavPåFlereBogstaver', 'Paragraf': '22', 'Antal': 2}, {'Id': 25, 'Navn': 'KunKryds', 'Paragraf': '23', 'Antal': 2}, {'Id': 26, 'Navn': 'ModstridBogstavListeNavn', 'Paragraf': '24, 25', 'Antal': 2}, {'Id': 27, 'Navn': 'AndreGrunde', 'Paragraf': '26', 'Antal': 2}, {'Id': 28, 'Navn': 'AndetEllerMereEndEnStemmeseddel', 'Paragraf': '27', 'Antal': 2}, {'Id': 29, 'Navn': 'StemmeseddelIkkeFraMinisteren', 'Paragraf': '28', 'Antal': 2}, {'Id': 30, 'Navn': 'KonvolutMedPåskrift', 'Paragraf': '29', 'Antal': 2}, {'Id': 31, 'Navn': 'StemmeseddelMedTegningPåskrift', 'Paragraf': '30', 'Antal': 2}, {'Id': 32, 'Navn': 'UdfyldtPåBagsidenEllerAndet', 'Paragraf': '31', 'Antal': 2}], 'Resultatart': 'ForeløbigOptælling', 'AfgivneStemmer': 36437, 'GyldigeStemmer': 36188, 'UgyldigeStemmerUdoverBlanke': 290, 'BlankeUgyldigeFremmødteStemmer': 1, 'BlankeUgyldigeBrevstemmer': 2, 'AfgivneStemmerDifferenceFraForrigeValg': None, 'GyldigeStemmerDifferenceFraForrigeValg': None, 'UgyldigeStemmerDifferenceFraForrigeValg': None, 'BlankeStemmerDifferenceFraForrigeValg': None, 'AntalStemmeberettigedeVælgereDifferenceFraForrigeValg': None, 'AntalStemmeberettigedeVælgere': 40000}\n",
      "Fejl ved læsning af data/raw/kv/valgresultater/valgresultater-Kommunalvalg-Københavns_Kommune-1__-190820250843.json: 'NoneType' object is not iterable\n"
     ]
    }
   ],
   "source": [
    "def get_kv_resultater(from_path, to_path, valg, data_type):\n",
    "    all_files = kombiner_resultater(from_path, to_path, \"kv\", \"valgresultater\")\n",
    "    partier_resultater = []\n",
    "    kandidat_resultater = []\n",
    "\n",
    "    for file in all_files:\n",
    "        # get the parti results\n",
    "        data = json.load(open(file, 'r', encoding='utf-8'))\n",
    "        print(data)\n",
    "        try:\n",
    "            for parti in data['Kandidatlister']:\n",
    "                partier_resultater.append({\n",
    "                    'kommune': data['Kommune'],\n",
    "                    'kommune_kode': data['Kommunekode'],\n",
    "                    'afstemningsområde': data['Afstemningsområde'],\n",
    "                    'afstemningsområde_dagi_id': data['AfstemningsområdeDagiId'],\n",
    "                    'godkendelsesdato': data['GodkendelsesDatoUTC'],\n",
    "                    'frigivelsestidspunkt': data['FrigivelsesTidspunktUTC'],\n",
    "                    'parti': parti['Navn'],\n",
    "                    'stemmer': parti['Stemmer'],\n",
    "                    'listestemmer': parti['Listestemmer'],\n",
    "                    'difference_forrige_valg' : parti['StemmerDifferenceFraForrigeValg']\n",
    "                })\n",
    "\n",
    "                for kandidat in parti['Kandidater']:\n",
    "\n",
    "                    kandidat_resultater.append({\n",
    "                        'kommune': data['Kommune'],\n",
    "                        'kommune_kode': data['Kommunekode'],\n",
    "                        'afstemningsområde': data['Afstemningsområde'],\n",
    "                        'afstemningsområde_dagi_id': data['AfstemningsområdeDagiId'],\n",
    "                        'godkendelsesdato': data['GodkendelsesDatoUTC'],\n",
    "                        'frigivelsestidspunkt': data['FrigivelsesTidspunktUTC'],\n",
    "                        'parti': parti['Navn'],\n",
    "                        'kandidat': kandidat['Stemmeseddelnavn'],\n",
    "                        'stemmer': kandidat['Stemmer']\n",
    "                    })\n",
    "        except Exception as e:\n",
    "            print(f\"Fejl ved læsning af {file}: {e}\")\n",
    "    return partier_resultater, kandidat_resultater\n",
    "\n",
    "kv_resultater = get_kv_resultater(from_path, to_path, \"kv\", \"valgresultater\")\n",
    "\n",
    "df_kv_partier = pd.DataFrame(kv_resultater[0])\n",
    "df_kv_kandidater = pd.DataFrame(kv_resultater[1])\n",
    "\n",
    "df_kv_partier.to_csv(\"data/struktureret/kv25_resultater_partier.csv\", index=False)\n",
    "df_kv_kandidater.to_csv(\"data/struktureret/kv25_resultater_kandidater.csv\", index=False)"
   ]
  }
 ],
 "metadata": {
  "kernelspec": {
   "display_name": "3.11.8",
   "language": "python",
   "name": "python3"
  },
  "language_info": {
   "codemirror_mode": {
    "name": "ipython",
    "version": 3
   },
   "file_extension": ".py",
   "mimetype": "text/x-python",
   "name": "python",
   "nbconvert_exporter": "python",
   "pygments_lexer": "ipython3",
   "version": "3.11.8"
  }
 },
 "nbformat": 4,
 "nbformat_minor": 5
}
