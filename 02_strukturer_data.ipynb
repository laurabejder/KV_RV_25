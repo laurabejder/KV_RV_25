{
 "cells": [
  {
   "cell_type": "markdown",
   "id": "c3a2b687",
   "metadata": {},
   "source": []
  },
  {
   "cell_type": "code",
   "execution_count": 73,
   "id": "c076943b",
   "metadata": {},
   "outputs": [],
   "source": [
    "import pandas as pd\n",
    "import os\n",
    "import glob\n",
    "import json"
   ]
  },
  {
   "cell_type": "code",
   "execution_count": 74,
   "id": "578cd49b",
   "metadata": {},
   "outputs": [],
   "source": [
    "from_path = \"data/raw/\"\n",
    "to_path = \"data/struktureret/\""
   ]
  },
  {
   "cell_type": "code",
   "execution_count": null,
   "id": "44d781a5",
   "metadata": {},
   "outputs": [],
   "source": [
    "def kombiner_resultater(from_path, to_path, valg, data_type):\n",
    "    os.makedirs(to_path, exist_ok=True) # Opret output-mappen, hvis den ikke findes\n",
    "    \n",
    "    file_pattern = os.path.join(from_path, valg, data_type, \"*.json\") # Find alle json-filer i den angivne mappe\n",
    "    all_files = glob.glob(file_pattern)\n",
    "\n",
    "    return all_files "
   ]
  },
  {
   "cell_type": "code",
   "execution_count": 80,
   "id": "82471270",
   "metadata": {},
   "outputs": [
    {
     "name": "stdout",
     "output_type": "stream",
     "text": [
      "Finder og kombinerer 3 filer fra data/raw/kv/valgresultater/*.json\n",
      "Fejl ved læsning af data/raw/kv/valgresultater/valgresultater-Kommunalvalg-Københavns_Kommune-3__Nordvest-190820250843.json: 'Kandidatlister'\n",
      "Fejl ved læsning af data/raw/kv/valgresultater/valgresultater-Kommunalvalg-Københavns_Kommune-1__-190820250843.json: 'NoneType' object is not iterable\n"
     ]
    }
   ],
   "source": [
    "def get_kv_resultater(from_path, to_path, valg, data_type):\n",
    "    all_files = kombiner_resultater(from_path, to_path, \"kv\", \"valgresultater\")\n",
    "    partier_resultater = []\n",
    "    kandidat_resultater = []\n",
    "\n",
    "    for file in all_files:\n",
    "        # get the parti results\n",
    "        data = json.load(open(file, 'r', encoding='utf-8'))\n",
    "        try:\n",
    "            for parti in data['Kandidatlister']:\n",
    "                partier_resultater.append({\n",
    "                    'kommune': data['Kommune'],\n",
    "                    'kommune_kode': data['Kommunekode'],\n",
    "                    'afstemningsområde': data['Afstemningsområde'],\n",
    "                    'afstemningsområde_dagi_id': data['AfstemningsområdeDagiId'],\n",
    "                    'godkendelsesdato': data['GodkendelsesDatoUTC'],\n",
    "                    'frigivelsestidspunkt': data['FrigivelsesTidspunktUTC'],\n",
    "                    'parti': parti['Navn'],\n",
    "                    'stemmer': parti['Stemmer'],\n",
    "                    'listestemmer': parti['Listestemmer'],\n",
    "                    'difference_forrige_valg' : parti['StemmerDifferenceFraForrigeValg']\n",
    "                })\n",
    "\n",
    "                for kandidat in parti['Kandidater']:\n",
    "\n",
    "                    kandidat_resultater.append({\n",
    "                        'kommune': data['Kommune'],\n",
    "                        'kommune_kode': data['Kommunekode'],\n",
    "                        'afstemningsområde': data['Afstemningsområde'],\n",
    "                        'afstemningsområde_dagi_id': data['AfstemningsområdeDagiId'],\n",
    "                        'godkendelsesdato': data['GodkendelsesDatoUTC'],\n",
    "                        'frigivelsestidspunkt': data['FrigivelsesTidspunktUTC'],\n",
    "                        'parti': parti['Navn'],\n",
    "                        'kandidat': kandidat['Stemmeseddelnavn'],\n",
    "                        'stemmer': kandidat['Stemmer']\n",
    "                    })\n",
    "        except Exception as e:\n",
    "            print(f\"Fejl ved læsning af {file}: {e}\")\n",
    "    return partier_resultater, kandidat_resultater\n",
    "\n",
    "kv_resultater = get_kv_resultater(from_path, to_path, \"kv\", \"valgresultater\")\n",
    "\n",
    "df_kv_partier = pd.DataFrame(kv_resultater[0])\n",
    "df_kv_kandidater = pd.DataFrame(kv_resultater[1])\n",
    "\n",
    "df_kv_partier.to_csv(\"data/struktureret/kv25_resultater_partier.csv\", index=False)\n",
    "df_kv_kandidater.to_csv(\"data/struktureret/kv25_resultater_kandidater.csv\", index=False)"
   ]
  }
 ],
 "metadata": {
  "kernelspec": {
   "display_name": "3.10.9",
   "language": "python",
   "name": "python3"
  },
  "language_info": {
   "codemirror_mode": {
    "name": "ipython",
    "version": 3
   },
   "file_extension": ".py",
   "mimetype": "text/x-python",
   "name": "python",
   "nbconvert_exporter": "python",
   "pygments_lexer": "ipython3",
   "version": "3.10.9"
  }
 },
 "nbformat": 4,
 "nbformat_minor": 5
}
